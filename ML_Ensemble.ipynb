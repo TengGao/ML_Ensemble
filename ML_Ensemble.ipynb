{
 "cells": [
  {
   "cell_type": "markdown",
   "metadata": {
    "_active": false,
    "_cell_guid": "c0c2520a-71c8-c705-b362-7844e4b25b79",
    "_uuid": "421d90b03b6f26c929bdddc0d246816a8f7087ed"
   },
   "source": [
    "The following notebook introduces ML-Ensemble, a Python library for memory-efficient parallel ensemble learning with a Scikit-learn API. \n",
    "\n",
    "ML-Ensemble also deploys a neural network-like API for building ensembles of several layers, and can accomodate a great variety of ensemble architectures. \n",
    "\n",
    "For more information, see http://mlens.readthedocs.io/en/latest/index.html."
   ]
  },
  {
   "cell_type": "code",
   "execution_count": 1,
   "metadata": {
    "_active": false,
    "_cell_guid": "1fed8d6f-4c44-b4c7-363b-2ff9e6a594c3",
    "_uuid": "3793e01c81b5eee2ab4fa7f63bf64bd4d4380e17",
    "collapsed": true
   },
   "outputs": [],
   "source": [
    "import gc\n",
    "import numpy as np\n",
    "import pandas as pd\n",
    "\n",
    "from sklearn.metrics import mean_absolute_error\n",
    "from sklearn.model_selection import train_test_split\n",
    "\n",
    "# Inputs\n",
    "from xgboost import XGBRegressor\n",
    "from sklearn.linear_model import Lasso, ElasticNet\n",
    "from sklearn.ensemble import RandomForestRegressor, ExtraTreesRegressor, AdaBoostRegressor\n",
    "from sklearn.preprocessing import StandardScaler\n",
    "from lightgbm import LGBMRegressor\n",
    "\n",
    "# Data viz\n",
    "from mlens.visualization import corr_X_y, corrmat\n",
    "\n",
    "# Model evaluation\n",
    "from mlens.metrics import make_scorer\n",
    "from mlens.model_selection import Evaluator\n",
    "from mlens.preprocessing import EnsembleTransformer\n",
    "\n",
    "# Ensemble\n",
    "from mlens.ensemble import SuperLearner\n",
    "\n",
    "from scipy.stats import uniform, randint\n",
    "\n",
    "from matplotlib.pyplot import show\n",
    "%matplotlib inline"
   ]
  },
  {
   "cell_type": "code",
   "execution_count": 2,
   "metadata": {
    "_active": false,
    "_cell_guid": "0a509d0f-ab3f-5e19-97ad-c88ed75bd393",
    "_uuid": "7a3e25383b155d9eb8156736197ce1c5b5784942",
    "collapsed": true
   },
   "outputs": [],
   "source": [
    "SEED = 148\n",
    "np.random.seed(SEED)"
   ]
  },
  {
   "cell_type": "markdown",
   "metadata": {
    "_active": false,
    "_cell_guid": "082bc8ab-5880-8b96-f57c-1429432be317",
    "_uuid": "2db70d1197faf0ceacc8560032104fc0306d7ded"
   },
   "source": [
    "# 1. Getting a good baseline for ensemble learning\n",
    "\n",
    "It's always good to check how inputs play along with the output.\n",
    "Here, we highlight one example functionality of the Ml-Ensemble's\n",
    "visualization library."
   ]
  },
  {
   "cell_type": "code",
   "execution_count": 3,
   "metadata": {
    "_active": false,
    "_cell_guid": "96d981c5-a6a1-1e62-9bad-9aac5197f769",
    "_uuid": "add98b02730750b6feab30ec9a52eed8e4d9f03a",
    "collapsed": true
   },
   "outputs": [],
   "source": [
    "from datetime import datetime\n",
    "def write_file(p_test):\n",
    "    print(\"Start write result ...\")\n",
    "    sub = pd.read_csv('sample_submission.csv')\n",
    "    for c in sub.columns[sub.columns != 'ParcelId']:\n",
    "        sub[c] = p_test\n",
    "\n",
    "    sub.to_csv('ML_Stacking_{}.csv'.format(datetime.now().strftime('%Y%m%d_%H%M%S')), index=False, float_format='%.4f')\n",
    "    print ('Done!')\n",
    "\n",
    "def build_train(drop_outlier=True):\n",
    "    \"\"\"Read in training data and return input, output, columns tuple.\"\"\"\n",
    "\n",
    "    # This is a version of Anovas minimally prepared dataset\n",
    "    # for the xgbstarter script\n",
    "    # https://www.kaggle.com/anokas/simple-xgboost-starter-0-0655\n",
    "\n",
    "    df = pd.read_csv('train_2016_v2.csv')\n",
    "\n",
    "    prop = pd.read_csv('properties_2016.csv')\n",
    "    convert = prop.dtypes == 'float64'\n",
    "    prop.loc[:, convert] = \\\n",
    "        prop.loc[:, convert].apply(lambda x: x.astype(np.float32))\n",
    "\n",
    "    df = df.merge(prop, how='left', on='parcelid')\n",
    "    if drop_outlier:\n",
    "        df = df[df.logerror>-0.4]\n",
    "        df = df[df.logerror<0.418]\n",
    "\n",
    "    y = df.logerror\n",
    "    df = df.drop(['parcelid',\n",
    "                  'logerror',\n",
    "                  'transactiondate',\n",
    "                  'propertyzoningdesc',\n",
    "                  'taxdelinquencyflag',\n",
    "                  'propertycountylandusecode'], axis=1)\n",
    "\n",
    "    convert = df.dtypes == 'object'\n",
    "    df.loc[:, convert] = \\\n",
    "        df.loc[:, convert].apply(lambda x: 1 * (x == True))\n",
    "\n",
    "    df.fillna(0, inplace=True)\n",
    "\n",
    "    return df, y, df.columns"
   ]
  },
  {
   "cell_type": "code",
   "execution_count": 4,
   "metadata": {
    "_active": false,
    "_cell_guid": "9d067d92-4703-d61b-5432-e9e58def803e",
    "_uuid": "f85f450a155aed25f2ca7ad7f6a78fc96cc1638b"
   },
   "outputs": [
    {
     "name": "stderr",
     "output_type": "stream",
     "text": [
      "/home/mikegao/anaconda3/lib/python3.6/site-packages/IPython/core/interactiveshell.py:2821: DtypeWarning: Columns (22,32,34,49,55) have mixed types. Specify dtype option on import or set low_memory=False.\n",
      "  if self.run_code(code, result):\n"
     ]
    }
   ],
   "source": [
    "x_train, y_train, columns = build_train()\n",
    "xtrain, xval, ytrain, yval = train_test_split(x_train,\n",
    "                                                y_train,\n",
    "                                                test_size=0.9,\n",
    "                                                random_state=SEED)"
   ]
  },
  {
   "cell_type": "code",
   "execution_count": 5,
   "metadata": {},
   "outputs": [
    {
     "name": "stderr",
     "output_type": "stream",
     "text": [
      "/home/mikegao/anaconda3/lib/python3.6/site-packages/IPython/core/interactiveshell.py:2717: DtypeWarning: Columns (22,32,34,49,55) have mixed types. Specify dtype option on import or set low_memory=False.\n",
      "  interactivity=interactivity, compiler=compiler, result=result)\n",
      "/home/mikegao/anaconda3/lib/python3.6/site-packages/ipykernel_launcher.py:10: SettingWithCopyWarning: \n",
      "A value is trying to be set on a copy of a slice from a DataFrame.\n",
      "Try using .loc[row_indexer,col_indexer] = value instead\n",
      "\n",
      "See the caveats in the documentation: http://pandas.pydata.org/pandas-docs/stable/indexing.html#indexing-view-versus-copy\n",
      "  # Remove the CWD from sys.path while we load stuff.\n",
      "/home/mikegao/anaconda3/lib/python3.6/site-packages/pandas/core/frame.py:2852: SettingWithCopyWarning: \n",
      "A value is trying to be set on a copy of a slice from a DataFrame\n",
      "\n",
      "See the caveats in the documentation: http://pandas.pydata.org/pandas-docs/stable/indexing.html#indexing-view-versus-copy\n",
      "  downcast=downcast, **kwargs)\n"
     ]
    }
   ],
   "source": [
    "sample=pd.read_csv('sample_submission.csv')\n",
    "prop = pd.read_csv('properties_2016.csv')\n",
    "sample['parcelid'] = sample['ParcelId']\n",
    "df_test = sample.merge(prop, on='parcelid', how='left')\n",
    "\n",
    "del prop; gc.collect()\n",
    "\n",
    "xtest = df_test[columns]\n",
    "for c in xtest.dtypes[xtest.dtypes == object].index.values:\n",
    "    xtest[c] = (xtest[c] == True)\n",
    "xtest.fillna(0, inplace=True)"
   ]
  },
  {
   "cell_type": "code",
   "execution_count": 6,
   "metadata": {
    "_active": false,
    "_cell_guid": "b0e7fe89-12b7-eab5-d270-b2128313afa9",
    "_uuid": "979b59693da961b5aacf5e9c743a7fe5314ce669"
   },
   "outputs": [
    {
     "name": "stderr",
     "output_type": "stream",
     "text": [
      "/home/mikegao/anaconda3/lib/python3.6/site-packages/scipy/stats/stats.py:3021: RuntimeWarning: invalid value encountered in double_scalars\n",
      "  r = r_num / r_den\n"
     ]
    },
    {
     "data": {
      "image/png": "[encoded data removed]",
      "text/plain": [
       "<matplotlib.figure.Figure at 0x7ff4d80c6c50>"
      ]
     },
     "metadata": {},
     "output_type": "display_data"
    },
    {
     "data": {
      "text/plain": [
       "<matplotlib.gridspec.GridSpec at 0x7ff49e17a0f0>"
      ]
     },
     "execution_count": 6,
     "metadata": {},
     "output_type": "execute_result"
    }
   ],
   "source": [
    "# this plot requires mlens 0.1.3, Kaggle is currently on 0.1.2\n",
    "corr_X_y(xtrain, ytrain, figsize=(16, 10), label_rotation=80, hspace=1, fontsize=14)"
   ]
  },
  {
   "cell_type": "markdown",
   "metadata": {
    "_active": false,
    "_cell_guid": "91c81883-5c34-2ca4-afc1-bf95534bae26",
    "_uuid": "4d17d96cbfbfe96d439fbeec810af71056610606"
   },
   "source": [
    "A few features seems to be (first-order) uncorrelated with the output, suggesting estimators with inherent\n",
    "feature selection should be preferred."
   ]
  },
  {
   "cell_type": "markdown",
   "metadata": {
    "_active": false,
    "_cell_guid": "278631f6-4a65-dda2-cbf1-82965ea6b893",
    "_uuid": "5b1047baebc6528ac4d0e32cf8501791db0c57fb"
   },
   "source": [
    "Now, consider how set of base learners (estimators) perform as they are."
   ]
  },
  {
   "cell_type": "code",
   "execution_count": 7,
   "metadata": {
    "_active": false,
    "_cell_guid": "299d7916-8391-5a21-db3b-ac5014eb925e",
    "_uuid": "d8a746b0571f6a5bff95a1eb9b131b8d0bbc2af3",
    "collapsed": true
   },
   "outputs": [],
   "source": [
    "# We consider the following models (or base learners)\n",
    "gb = XGBRegressor(n_jobs=1, random_state=SEED)\n",
    "ls = Lasso(alpha=1e-6, normalize=True)\n",
    "el = ElasticNet(alpha=1e-6, normalize=True)\n",
    "rf = RandomForestRegressor(random_state=SEED)\n",
    "ex = ExtraTreesRegressor(random_state=SEED)\n",
    "ada = AdaBoostRegressor(random_state=SEED)\n",
    "lgb = LGBMRegressor(objective='regression', nthread=1,seed=SEED)\n",
    "\n",
    "base_learners = [('ls', ls),\n",
    "                #('el', el),\n",
    "                 ('rf', rf),\n",
    "                 ('ex', ex),\n",
    "                 #('ada', ada),\n",
    "                 ('gb', gb),\n",
    "                 ('lgb', lgb)\n",
    "                ]"
   ]
  },
  {
   "cell_type": "code",
   "execution_count": 8,
   "metadata": {
    "_active": false,
    "_cell_guid": "5d46059c-2c3c-b383-dd3f-0b129c4cf1db",
    "_uuid": "ab73c7015549bbe84e665fa58a260df682528208"
   },
   "outputs": [
    {
     "name": "stdout",
     "output_type": "stream",
     "text": [
      " ls : 0.0533\n",
      " rf : 0.0598\n",
      " ex : 0.0610\n",
      " gb : 0.0534\n",
      "lgb : 0.0533\n"
     ]
    }
   ],
   "source": [
    "P = np.zeros((xval.shape[0], len(base_learners)))\n",
    "P = pd.DataFrame(P, columns=[e for e, _ in base_learners])\n",
    "\n",
    "for est_name, est in base_learners:\n",
    "    est.fit(xtrain, ytrain)\n",
    "    p = est.predict(xval)\n",
    "    P.loc[:, est_name] = p\n",
    "    print(\"%3s : %.4f\" % (est_name, mean_absolute_error(yval, p)))"
   ]
  },
  {
   "cell_type": "markdown",
   "metadata": {
    "_active": false,
    "_cell_guid": "e180babd-e852-60ec-319d-c704606b4f71",
    "_uuid": "71bb2aeec9c4ef46ac9a9c5fbd363bd6843672d2"
   },
   "source": [
    "So they all score relatively close. However, they seem to capture different aspects of the feature space, as shown by the low correlation of their predictions:"
   ]
  },
  {
   "cell_type": "code",
   "execution_count": 9,
   "metadata": {
    "_active": false,
    "_cell_guid": "9ecb9ad7-5d71-0d26-3f6c-5b49ebb15cc6",
    "_uuid": "9710d7c9968169af64958fd8c7904fa4dbf904af"
   },
   "outputs": [
    {
     "data": {
      "image/png": "[encoded data removed]",
      "text/plain": [
       "<matplotlib.figure.Figure at 0x7ff49c0516d8>"
      ]
     },
     "metadata": {},
     "output_type": "display_data"
    }
   ],
   "source": [
    "ax = corrmat(P.corr())\n",
    "show()"
   ]
  },
  {
   "cell_type": "markdown",
   "metadata": {
    "_active": false,
    "_cell_guid": "75fc44d9-540a-d669-4f0f-2307fb1387d6",
    "_uuid": "e906854fffaa61218b8802dc5e454b28879df024"
   },
   "source": [
    "They are in fact not particularly correlated in their scoring (except the linear models), and hence\n",
    "an ensemble may be able to outperform any single model by learning to combine their respective strength."
   ]
  },
  {
   "cell_type": "markdown",
   "metadata": {
    "_active": false,
    "_cell_guid": "a1b054d0-9385-26ad-be38-4f22c89e113a",
    "_uuid": "dac34b0fc517caed3b41ebc027d3471baf0c82fe"
   },
   "source": [
    "## 2. Comparing base learners\n",
    "\n",
    "*emphasized text*To facilitate base learner comparison, ML-Ensemble implements a randomized grid search\n",
    "class that allows specification of several estimators (and preprocessing pipelines) in\n",
    "one grid search."
   ]
  },
  {
   "cell_type": "code",
   "execution_count": 10,
   "metadata": {
    "_active": false,
    "_cell_guid": "3f4fbe54-a250-e0fd-fcde-821228da7c18",
    "_uuid": "2763fb3fb038b97b2f62b8cfacbbcdc67b6686c0",
    "collapsed": true
   },
   "outputs": [],
   "source": [
    "# Put their parameter dictionaries in a dictionary with the\n",
    "# estimator names as keys\n",
    "param_dicts = {'ls':\n",
    "                  {'alpha': uniform(1e-6, 1e-5)},\n",
    "               #'el':\n",
    "               #   {'alpha': uniform(1e-6, 1e-5),\n",
    "               #    'l1_ratio': uniform(0, 1)},\n",
    "               'ex':\n",
    "                   {'n_estimators': randint(50,150),\n",
    "                    'max_depth': randint(1,10)},\n",
    "               #'ada':\n",
    "               #    {'learning_rate': uniform(0.02, 0.04),\n",
    "               #     'n_estimators': randint(50,150)},\n",
    "               'gb':\n",
    "                   {'learning_rate': uniform(0.02, 0.04),\n",
    "                    'colsample_bytree': uniform(0.55, 0.66),\n",
    "                    'min_child_weight': randint(30, 60),\n",
    "                    'max_depth': randint(3, 7),\n",
    "                    'subsample': uniform(0.4, 0.2),\n",
    "                    'n_estimators': randint(150, 200),\n",
    "                    'colsample_bytree': uniform(0.6, 0.4),\n",
    "                    'reg_lambda': uniform(1, 2),\n",
    "                    'reg_alpha': uniform(1, 2),\n",
    "                   },\n",
    "               'rf':\n",
    "                   {'max_depth': randint(2, 5),\n",
    "                    'min_samples_split': randint(5, 20),\n",
    "                    'min_samples_leaf': randint(10, 20),\n",
    "                    'n_estimators': randint(50, 100),\n",
    "                    'max_features': uniform(0.6, 0.3)},\n",
    "               \n",
    "               'lgb':\n",
    "                  {'learning_rate': uniform(0.02,0.04),\n",
    "                   'num_leaves': randint(50, 60),\n",
    "                   'n_estimators': randint(150,200),\n",
    "                   'max_bin': randint(250,500),\n",
    "                   'min_child_weight': randint(30,60),\n",
    "                    'colsample_bytree': randint(1,10),\n",
    "                    'reg_alpha': uniform(0,0.5),\n",
    "                    'reg_lambda': uniform(0,0.5)\n",
    "                   }\n",
    "              }"
   ]
  },
  {
   "cell_type": "code",
   "execution_count": 11,
   "metadata": {
    "_active": false,
    "_cell_guid": "3fd0c5c9-c9fe-2465-6341-9f54d899346f",
    "_uuid": "6f804f14bfbd7fcaf84279eec087105ecd13d659",
    "collapsed": true
   },
   "outputs": [],
   "source": [
    "scorer = make_scorer(mean_absolute_error, greater_is_better=False)\n",
    "\n",
    "evl = Evaluator(scorer,\n",
    "                cv=5,\n",
    "                random_state=SEED,\n",
    "                verbose=5,\n",
    "                backend='threading',\n",
    "                n_jobs=1\n",
    "               )"
   ]
  },
  {
   "cell_type": "code",
   "execution_count": 12,
   "metadata": {
    "_active": false,
    "_cell_guid": "7dfd3238-b31d-6577-0613-0a71abaf95da",
    "_uuid": "738af1f8671cb91f31c78ae9db6a1195f52c814f",
    "scrolled": false
   },
   "outputs": [
    {
     "name": "stderr",
     "output_type": "stream",
     "text": [
      "Preprocessing 2 preprocessing pipelines over 5 CV folds\n",
      "[Parallel(n_jobs=1)]: Done   1 out of   1 | elapsed:    0.0s remaining:    0.0s\n",
      "[Parallel(n_jobs=1)]: Done   2 out of   2 | elapsed:    0.0s remaining:    0.0s\n",
      "[Parallel(n_jobs=1)]: Done   3 out of   3 | elapsed:    0.0s remaining:    0.0s\n",
      "[Parallel(n_jobs=1)]: Done   4 out of   4 | elapsed:    0.0s remaining:    0.0s\n",
      "[Parallel(n_jobs=1)]: Done  10 out of  10 | elapsed:    0.0s finished\n",
      "Preprocessing done | 00:00:00\n",
      "\n",
      "/home/mikegao/anaconda3/lib/python3.6/site-packages/mlens/model_selection/model_selection.py:484: UserWarning: No valid parameters found for ('sc', 'lgb'). Will fit and score once with given parameter settings.\n",
      "  \"settings.\".format(key))\n",
      "/home/mikegao/anaconda3/lib/python3.6/site-packages/mlens/model_selection/model_selection.py:484: UserWarning: No valid parameters found for ('none', 'lgb'). Will fit and score once with given parameter settings.\n",
      "  \"settings.\".format(key))\n",
      "Evaluating 10 models for 20 parameter draws over 2 preprocessing pipelines and 5 CV folds, totalling 1000 fits\n",
      "[Parallel(n_jobs=1)]: Done   1 out of   1 | elapsed:    0.0s remaining:    0.0s\n",
      "[Parallel(n_jobs=1)]: Done   2 out of   2 | elapsed:    0.0s remaining:    0.0s\n",
      "[Parallel(n_jobs=1)]: Done   3 out of   3 | elapsed:    0.1s remaining:    0.0s\n",
      "[Parallel(n_jobs=1)]: Done   4 out of   4 | elapsed:    0.1s remaining:    0.0s\n",
      "[Parallel(n_jobs=1)]: Done 810 out of 810 | elapsed:  8.0min finished\n",
      "Evaluation done | 00:08:01\n",
      "\n"
     ]
    },
    {
     "data": {
      "text/plain": [
       "<mlens.model_selection.model_selection.Evaluator at 0x7ff49dfce3c8>"
      ]
     },
     "execution_count": 12,
     "metadata": {},
     "output_type": "execute_result"
    }
   ],
   "source": [
    "evl.fit(xtrain.values,  # you can pass DataFrames from mlens>=0.1.3 \n",
    "        ytrain.values,\n",
    "        estimators=base_learners,\n",
    "        param_dicts=param_dicts,\n",
    "        preprocessing={'sc': [StandardScaler()], 'none': []},\n",
    "        n_iter=20)  # bump this up to do a larger grid search"
   ]
  },
  {
   "cell_type": "code",
   "execution_count": 13,
   "metadata": {
    "_active": false,
    "_cell_guid": "79510c7f-0465-e19f-1c70-6cc3d846f3c2",
    "_uuid": "cfc16983c5b9c1e4c80041a585a1e0c391473fdd"
   },
   "outputs": [
    {
     "data": {
      "text/html": [
       "<div>\n",
       "<style>\n",
       "    .dataframe thead tr:only-child th {\n",
       "        text-align: right;\n",
       "    }\n",
       "\n",
       "    .dataframe thead th {\n",
       "        text-align: left;\n",
       "    }\n",
       "\n",
       "    .dataframe tbody tr th {\n",
       "        vertical-align: top;\n",
       "    }\n",
       "</style>\n",
       "<table border=\"1\" class=\"dataframe\">\n",
       "  <thead>\n",
       "    <tr style=\"text-align: right;\">\n",
       "      <th></th>\n",
       "      <th></th>\n",
       "      <th>test_score_mean</th>\n",
       "      <th>test_score_std</th>\n",
       "      <th>train_score_mean</th>\n",
       "      <th>train_score_std</th>\n",
       "      <th>fit_time_mean</th>\n",
       "      <th>fit_time_std</th>\n",
       "      <th>params</th>\n",
       "    </tr>\n",
       "  </thead>\n",
       "  <tbody>\n",
       "    <tr>\n",
       "      <th rowspan=\"5\" valign=\"top\">none</th>\n",
       "      <th>ex</th>\n",
       "      <td>-0.052545</td>\n",
       "      <td>0.001070</td>\n",
       "      <td>-0.052252</td>\n",
       "      <td>0.000244</td>\n",
       "      <td>0.504063</td>\n",
       "      <td>0.007718</td>\n",
       "      <td>{'n_estimators': 131, 'max_depth': 3}</td>\n",
       "    </tr>\n",
       "    <tr>\n",
       "      <th>gb</th>\n",
       "      <td>-0.052375</td>\n",
       "      <td>0.000983</td>\n",
       "      <td>-0.051534</td>\n",
       "      <td>0.000202</td>\n",
       "      <td>0.836706</td>\n",
       "      <td>0.010416</td>\n",
       "      <td>{'learning_rate': 0.044636919535, 'colsample_b...</td>\n",
       "    </tr>\n",
       "    <tr>\n",
       "      <th>lgb</th>\n",
       "      <td>-0.052730</td>\n",
       "      <td>0.000988</td>\n",
       "      <td>-0.050576</td>\n",
       "      <td>0.000222</td>\n",
       "      <td>0.037247</td>\n",
       "      <td>0.000725</td>\n",
       "      <td>{}</td>\n",
       "    </tr>\n",
       "    <tr>\n",
       "      <th>ls</th>\n",
       "      <td>-0.052351</td>\n",
       "      <td>0.001044</td>\n",
       "      <td>-0.052174</td>\n",
       "      <td>0.000237</td>\n",
       "      <td>0.008979</td>\n",
       "      <td>0.001551</td>\n",
       "      <td>{'alpha': 8.12960418991e-06}</td>\n",
       "    </tr>\n",
       "    <tr>\n",
       "      <th>rf</th>\n",
       "      <td>-0.052449</td>\n",
       "      <td>0.000931</td>\n",
       "      <td>-0.051694</td>\n",
       "      <td>0.000195</td>\n",
       "      <td>0.942659</td>\n",
       "      <td>0.025366</td>\n",
       "      <td>{'max_depth': 4, 'min_samples_split': 11, 'min...</td>\n",
       "    </tr>\n",
       "    <tr>\n",
       "      <th rowspan=\"5\" valign=\"top\">sc</th>\n",
       "      <th>ex</th>\n",
       "      <td>-0.052545</td>\n",
       "      <td>0.001070</td>\n",
       "      <td>-0.052252</td>\n",
       "      <td>0.000244</td>\n",
       "      <td>0.489169</td>\n",
       "      <td>0.002496</td>\n",
       "      <td>{'n_estimators': 131, 'max_depth': 3}</td>\n",
       "    </tr>\n",
       "    <tr>\n",
       "      <th>gb</th>\n",
       "      <td>-0.052364</td>\n",
       "      <td>0.000979</td>\n",
       "      <td>-0.051528</td>\n",
       "      <td>0.000208</td>\n",
       "      <td>0.830372</td>\n",
       "      <td>0.010147</td>\n",
       "      <td>{'learning_rate': 0.044636919535, 'colsample_b...</td>\n",
       "    </tr>\n",
       "    <tr>\n",
       "      <th>lgb</th>\n",
       "      <td>-0.052695</td>\n",
       "      <td>0.000952</td>\n",
       "      <td>-0.050575</td>\n",
       "      <td>0.000222</td>\n",
       "      <td>0.046434</td>\n",
       "      <td>0.001384</td>\n",
       "      <td>{}</td>\n",
       "    </tr>\n",
       "    <tr>\n",
       "      <th>ls</th>\n",
       "      <td>-0.052351</td>\n",
       "      <td>0.001044</td>\n",
       "      <td>-0.052174</td>\n",
       "      <td>0.000237</td>\n",
       "      <td>0.008674</td>\n",
       "      <td>0.001960</td>\n",
       "      <td>{'alpha': 8.12960418991e-06}</td>\n",
       "    </tr>\n",
       "    <tr>\n",
       "      <th>rf</th>\n",
       "      <td>-0.052450</td>\n",
       "      <td>0.000932</td>\n",
       "      <td>-0.051694</td>\n",
       "      <td>0.000195</td>\n",
       "      <td>0.926741</td>\n",
       "      <td>0.012818</td>\n",
       "      <td>{'max_depth': 4, 'min_samples_split': 11, 'min...</td>\n",
       "    </tr>\n",
       "  </tbody>\n",
       "</table>\n",
       "</div>"
      ],
      "text/plain": [
       "          test_score_mean  test_score_std  train_score_mean  train_score_std  \\\n",
       "none ex         -0.052545        0.001070         -0.052252         0.000244   \n",
       "     gb         -0.052375        0.000983         -0.051534         0.000202   \n",
       "     lgb        -0.052730        0.000988         -0.050576         0.000222   \n",
       "     ls         -0.052351        0.001044         -0.052174         0.000237   \n",
       "     rf         -0.052449        0.000931         -0.051694         0.000195   \n",
       "sc   ex         -0.052545        0.001070         -0.052252         0.000244   \n",
       "     gb         -0.052364        0.000979         -0.051528         0.000208   \n",
       "     lgb        -0.052695        0.000952         -0.050575         0.000222   \n",
       "     ls         -0.052351        0.001044         -0.052174         0.000237   \n",
       "     rf         -0.052450        0.000932         -0.051694         0.000195   \n",
       "\n",
       "          fit_time_mean  fit_time_std  \\\n",
       "none ex        0.504063      0.007718   \n",
       "     gb        0.836706      0.010416   \n",
       "     lgb       0.037247      0.000725   \n",
       "     ls        0.008979      0.001551   \n",
       "     rf        0.942659      0.025366   \n",
       "sc   ex        0.489169      0.002496   \n",
       "     gb        0.830372      0.010147   \n",
       "     lgb       0.046434      0.001384   \n",
       "     ls        0.008674      0.001960   \n",
       "     rf        0.926741      0.012818   \n",
       "\n",
       "                                                     params  \n",
       "none ex               {'n_estimators': 131, 'max_depth': 3}  \n",
       "     gb   {'learning_rate': 0.044636919535, 'colsample_b...  \n",
       "     lgb                                                 {}  \n",
       "     ls                        {'alpha': 8.12960418991e-06}  \n",
       "     rf   {'max_depth': 4, 'min_samples_split': 11, 'min...  \n",
       "sc   ex               {'n_estimators': 131, 'max_depth': 3}  \n",
       "     gb   {'learning_rate': 0.044636919535, 'colsample_b...  \n",
       "     lgb                                                 {}  \n",
       "     ls                        {'alpha': 8.12960418991e-06}  \n",
       "     rf   {'max_depth': 4, 'min_samples_split': 11, 'min...  "
      ]
     },
     "execution_count": 13,
     "metadata": {},
     "output_type": "execute_result"
    }
   ],
   "source": [
    "pd.DataFrame(evl.summary)"
   ]
  },
  {
   "cell_type": "markdown",
   "metadata": {
    "_active": false,
    "_cell_guid": "b1074dc1-70ea-4fee-5746-9d22fab75ffd",
    "_uuid": "ebc9181c6cbba24d838251f74dc6e7487cc67da0"
   },
   "source": [
    "There you have it, a comparison of tuned models in one grid search!\n",
    "\n",
    "Optimal parameters are then easily accessed."
   ]
  },
  {
   "cell_type": "code",
   "execution_count": 14,
   "metadata": {
    "_active": false,
    "_cell_guid": "a56f93f3-7f61-e402-dd4e-084e7e542f4d",
    "_uuid": "bf7b6c0e52a8efdcc1927773958402740e5fb5e8"
   },
   "outputs": [
    {
     "data": {
      "text/plain": [
       "{'colsample_bytree': 0.84636919535030053,\n",
       " 'learning_rate': 0.044636919535030059,\n",
       " 'max_depth': 3,\n",
       " 'min_child_weight': 36,\n",
       " 'n_estimators': 166,\n",
       " 'reg_alpha': 2.2318459767515026,\n",
       " 'reg_lambda': 2.2318459767515026,\n",
       " 'subsample': 0.52318459767515035}"
      ]
     },
     "execution_count": 14,
     "metadata": {},
     "output_type": "execute_result"
    }
   ],
   "source": [
    "evl.summary[\"params\"][('sc', 'gb')]"
   ]
  },
  {
   "cell_type": "markdown",
   "metadata": {
    "_active": false,
    "_cell_guid": "2b8820aa-85fe-7d5f-9697-9a7ac528007c",
    "_uuid": "3696183f5b11a9395b6a30fe60195402d5e25075"
   },
   "source": [
    "# 3. Comparing meta learners\n",
    "\n",
    "Running an entire ensemble several times just to compare different meta learners can be prohibitvely expensive. ML-Ensemble implements a class that acts as a transformer, allowing you to use ingoing layers as a \"preprocessing\" step, so that you need only evaluate the meta learners iteratively."
   ]
  },
  {
   "cell_type": "code",
   "execution_count": 15,
   "metadata": {
    "_active": false,
    "_cell_guid": "38156447-69dd-9bc5-2f68-e9f1f59aebc0",
    "_uuid": "0c3a7a5d095bb299c0426ff775818501dd7dfd58",
    "collapsed": true
   },
   "outputs": [],
   "source": [
    "for case_name, params in evl.summary[\"params\"].items():\n",
    "    for est_name, est in base_learners:\n",
    "        if est_name == case_name[1]:\n",
    "            est.set_params(**params)"
   ]
  },
  {
   "cell_type": "code",
   "execution_count": 16,
   "metadata": {
    "_active": false,
    "_cell_guid": "7b29ad65-eee3-b75c-7865-10bfbda05b54",
    "_uuid": "51d3367ac6ce88071f4a66e66fcd0d666ce88e50",
    "collapsed": true
   },
   "outputs": [],
   "source": [
    "# We will compare a GBM and an elastic net as the meta learner\n",
    "# These are cloned internally so we can go ahead and grab the fitted ones\n",
    "meta_learners = [('gb', gb),\n",
    "                 ('el', el)]\n",
    "\n",
    "# Note that when we have a preprocessing pipeline,\n",
    "# keys are in the (prep_name, est_name) format\n",
    "param_dicts = {'el':\n",
    "                  {'alpha': uniform(1e-5, 1),\n",
    "                   'l1_ratio': uniform(0, 1)},\n",
    "               'gb':\n",
    "                   {'learning_rate': uniform(0.01, 0.2),\n",
    "                    'subsample': uniform(0.5, 0.5),\n",
    "                    'reg_lambda': uniform(0.1, 1),\n",
    "                    'n_estimators': randint(10, 100)},\n",
    "              }"
   ]
  },
  {
   "cell_type": "code",
   "execution_count": 17,
   "metadata": {
    "_active": false,
    "_cell_guid": "d1230a30-cc93-ffc7-a0e5-2afeacee6577",
    "_uuid": "59f375af27d01066d17a94bc6d85f95c7151e00b",
    "collapsed": true
   },
   "outputs": [],
   "source": [
    "# Here, we but the base learners in an EnsembleTransformer class\n",
    "# this class will faithfully reproduce predictions for each fold\n",
    "# in a cross-validation execution as if it was the first n layers\n",
    "# of an ensemble\n",
    "\n",
    "# The API of the Ensemble transformer mirrors that of the SequentialEnsemble class,\n",
    "# see documentation for further info\n",
    "in_layer = EnsembleTransformer()\n",
    "in_layer.add('stack', base_learners)\n",
    "\n",
    "preprocess = [in_layer]"
   ]
  },
  {
   "cell_type": "code",
   "execution_count": null,
   "metadata": {
    "_active": false,
    "_cell_guid": "fdaef90c-8b4e-ec0a-49b1-221ddc026300",
    "_uuid": "b63851916e9341c5a377826df7a29af3c8f7b6d3"
   },
   "outputs": [
    {
     "name": "stderr",
     "output_type": "stream",
     "text": [
      "Preprocessing 1 preprocessing pipelines over 5 CV folds\n"
     ]
    }
   ],
   "source": [
    "evl.fit(xtrain.values,\n",
    "        ytrain.values,\n",
    "        meta_learners,\n",
    "        param_dicts,\n",
    "        preprocessing={'meta': preprocess},\n",
    "        n_iter=20                            # bump this up to do a larger grid search\n",
    "       )"
   ]
  },
  {
   "cell_type": "code",
   "execution_count": 19,
   "metadata": {
    "_active": false,
    "_cell_guid": "42e4b794-8ecc-4419-abb7-a682c0cf551b",
    "_uuid": "e4297601981c93f6b748fbb0d437396d2641e256"
   },
   "outputs": [
    {
     "data": {
      "text/html": [
       "<div>\n",
       "<style>\n",
       "    .dataframe thead tr:only-child th {\n",
       "        text-align: right;\n",
       "    }\n",
       "\n",
       "    .dataframe thead th {\n",
       "        text-align: left;\n",
       "    }\n",
       "\n",
       "    .dataframe tbody tr th {\n",
       "        vertical-align: top;\n",
       "    }\n",
       "</style>\n",
       "<table border=\"1\" class=\"dataframe\">\n",
       "  <thead>\n",
       "    <tr style=\"text-align: right;\">\n",
       "      <th></th>\n",
       "      <th></th>\n",
       "      <th>test_score_mean</th>\n",
       "      <th>test_score_std</th>\n",
       "      <th>train_score_mean</th>\n",
       "      <th>train_score_std</th>\n",
       "      <th>fit_time_mean</th>\n",
       "      <th>fit_time_std</th>\n",
       "      <th>params</th>\n",
       "    </tr>\n",
       "  </thead>\n",
       "  <tbody>\n",
       "    <tr>\n",
       "      <th rowspan=\"2\" valign=\"top\">meta</th>\n",
       "      <th>el</th>\n",
       "      <td>-0.052685</td>\n",
       "      <td>0.001059</td>\n",
       "      <td>-0.052681</td>\n",
       "      <td>0.000260</td>\n",
       "      <td>0.000530</td>\n",
       "      <td>0.000015</td>\n",
       "      <td>{'alpha': 0.575415852231, 'l1_ratio': 0.575405...</td>\n",
       "    </tr>\n",
       "    <tr>\n",
       "      <th>gb</th>\n",
       "      <td>-0.052533</td>\n",
       "      <td>0.001017</td>\n",
       "      <td>-0.052205</td>\n",
       "      <td>0.000265</td>\n",
       "      <td>0.039732</td>\n",
       "      <td>0.001122</td>\n",
       "      <td>{'learning_rate': 0.123474273812, 'subsample':...</td>\n",
       "    </tr>\n",
       "  </tbody>\n",
       "</table>\n",
       "</div>"
      ],
      "text/plain": [
       "         test_score_mean  test_score_std  train_score_mean  train_score_std  \\\n",
       "meta el        -0.052685        0.001059         -0.052681         0.000260   \n",
       "     gb        -0.052533        0.001017         -0.052205         0.000265   \n",
       "\n",
       "         fit_time_mean  fit_time_std  \\\n",
       "meta el       0.000530      0.000015   \n",
       "     gb       0.039732      0.001122   \n",
       "\n",
       "                                                    params  \n",
       "meta el  {'alpha': 0.575415852231, 'l1_ratio': 0.575405...  \n",
       "     gb  {'learning_rate': 0.123474273812, 'subsample':...  "
      ]
     },
     "execution_count": 19,
     "metadata": {},
     "output_type": "execute_result"
    }
   ],
   "source": [
    "pd.DataFrame(evl.summary)"
   ]
  },
  {
   "cell_type": "markdown",
   "metadata": {
    "_active": false,
    "_cell_guid": "64e69cf0-aee4-c65a-f9ce-d58b370066c9",
    "_uuid": "34fe9af34cdf2ecfe05e9f0b52775ad98762f8ee"
   },
   "source": [
    "# 4. Ensemble learning\n",
    "\n",
    "With these results in mind, we now turn to building an ensemble estimator.\n",
    "\n",
    "ML-Ensemble uses a neural network-like API to specify layers of base learners to be\n",
    "fitted sequentially on the previous layer's predictions (or the raw input for the\n",
    "first layer). An ensemble is built as a Scikit-learn estimator, and can be used as\n",
    "any other Scikit-learn class."
   ]
  },
  {
   "cell_type": "code",
   "execution_count": 20,
   "metadata": {
    "_active": false,
    "_cell_guid": "d7440c1d-f3a5-a001-b4f1-82c20f4229cd",
    "_uuid": "b5bd0121a76d998aa75c10130e6f0103e738c8a6"
   },
   "outputs": [
    {
     "data": {
      "text/plain": [
       "ElasticNet(alpha=0.57541585223123481, copy_X=True, fit_intercept=True,\n",
       "      l1_ratio=0.57540585223123486, max_iter=1000, normalize=True,\n",
       "      positive=False, precompute=False, random_state=None,\n",
       "      selection='cyclic', tol=0.0001, warm_start=False)"
      ]
     },
     "execution_count": 20,
     "metadata": {},
     "output_type": "execute_result"
    }
   ],
   "source": [
    "# Let's pick the linear meta learner with the above tuned\n",
    "# hyper-parameters. Note that ideally, you'd want to tune\n",
    "# the ensemble as a whole, not each estimator at a time\n",
    "meta_learner = meta_learners[1][1]\n",
    "\n",
    "meta_learner.set_params(**evl.summary[\"params\"][(\"meta\", \"el\")])"
   ]
  },
  {
   "cell_type": "markdown",
   "metadata": {
    "_active": false,
    "_cell_guid": "1ff3192d-5cd4-b8fa-8b4f-45b6d2bf4cbe",
    "_uuid": "39bb6cba93311fe3a2bc9043e85941d1a193c022"
   },
   "source": [
    "The ensemble we will implement is the Super Learner, also known as a stacking ensemble. There are several alternatives, see the documentation for further info."
   ]
  },
  {
   "cell_type": "code",
   "execution_count": 21,
   "metadata": {
    "_active": false,
    "_cell_guid": "23308d6c-50a5-1b31-58ce-e24e166b0eed",
    "_uuid": "8f216471cf927f26418a5abbc473a077c20f83cb"
   },
   "outputs": [
    {
     "data": {
      "text/plain": [
       "SuperLearner(array_check=2, backend='threading', folds=2,\n",
       "       layers=LayerContainer(backend='threading',\n",
       "        layers=OrderedDict([('layer-1', Layer(cls='stack', cls_kwargs=None, dtype=<class 'numpy.float32'>,\n",
       "   estimators=[('ls', Lasso(alpha=8.1296041899066758e-06, copy_X=True, fit_intercept=True,\n",
       "   max_iter=1000, normalize=True, positive=False, precomput...xception=True, scorer=None,\n",
       "   verbose=5))]),\n",
       "        n_jobs=-1, raise_on_exception=True, verbose=5),\n",
       "       n_jobs=-1, raise_on_exception=True, random_state=None, scorer=None,\n",
       "       shuffle=False, verbose=5)"
      ]
     },
     "execution_count": 21,
     "metadata": {},
     "output_type": "execute_result"
    }
   ],
   "source": [
    "# Instantiate the ensemble by adding layers to it. Finalize with a meta layer\n",
    "ens = SuperLearner(verbose=5,\n",
    "                   backend=\"threading\") # mlens can release the GIL\n",
    "ens.add(base_learners)\n",
    "ens.add_meta(meta_learner)"
   ]
  },
  {
   "cell_type": "markdown",
   "metadata": {
    "_active": false,
    "_cell_guid": "43b2ba6d-cf90-3de4-be58-a078fb01a1ee",
    "_uuid": "ca6fc08be8411a34b2df9d3bae3118e390943ef4"
   },
   "source": [
    "Once instantiated, the ensemble will behave like any other Scikit-learn estimator."
   ]
  },
  {
   "cell_type": "code",
   "execution_count": 22,
   "metadata": {
    "_active": false,
    "_cell_guid": "f0f797a6-d467-5d5f-23a4-badc954e85ba",
    "_uuid": "20ece3a0db4fd3c2c5417394fe2860325f838d4e",
    "scrolled": false
   },
   "outputs": [
    {
     "name": "stderr",
     "output_type": "stream",
     "text": [
      "\n",
      "Fitting 2 layers\n",
      "\n",
      "Processing layer-1\n",
      "[Parallel(n_jobs=-1)]: Done   3 out of  12 | elapsed:    0.3s remaining:    0.8s\n",
      "[Parallel(n_jobs=-1)]: Done   6 out of  12 | elapsed:    1.2s remaining:    1.2s\n",
      "[Parallel(n_jobs=-1)]: Done   9 out of  12 | elapsed:    1.3s remaining:    0.4s\n",
      "[Parallel(n_jobs=-1)]: Done  12 out of  12 | elapsed:    1.8s remaining:    0.0s\n",
      "[Parallel(n_jobs=-1)]: Done  12 out of  12 | elapsed:    1.8s finished\n",
      "layer-1 Done | 00:00:01\n",
      "\n",
      "Processing layer-2\n",
      "[Parallel(n_jobs=-1)]: Done   1 out of   1 | elapsed:    0.0s finished\n",
      "[Parallel(n_jobs=-1)]: Done   1 out of   1 | elapsed:    0.0s finished\n",
      "layer-2 Done | 00:00:00\n",
      "\n",
      "Fit complete | 00:00:01\n",
      "\n"
     ]
    },
    {
     "data": {
      "text/plain": [
       "SuperLearner(array_check=2, backend='threading', folds=2,\n",
       "       layers=LayerContainer(backend='threading',\n",
       "        layers=OrderedDict([('layer-1', Layer(cls='stack', cls_kwargs=None, dtype=<class 'numpy.float32'>,\n",
       "   estimators=[('ls', Lasso(alpha=8.1296041899066758e-06, copy_X=True, fit_intercept=True,\n",
       "   max_iter=1000, normalize=True, positive=False, precomput...xception=True, scorer=None,\n",
       "   verbose=5))]),\n",
       "        n_jobs=-1, raise_on_exception=True, verbose=5),\n",
       "       n_jobs=-1, raise_on_exception=True, random_state=None, scorer=None,\n",
       "       shuffle=False, verbose=5)"
      ]
     },
     "execution_count": 22,
     "metadata": {},
     "output_type": "execute_result"
    }
   ],
   "source": [
    "ens.fit(xtrain, ytrain)"
   ]
  },
  {
   "cell_type": "markdown",
   "metadata": {
    "_active": false,
    "_cell_guid": "032e87cd-d503-03dd-e5e8-bb466d2a3fa4",
    "_uuid": "74b9cdf48bb5dc111fe7945a63a06be978e0a170"
   },
   "source": [
    "Predictions are generated as usual:"
   ]
  },
  {
   "cell_type": "code",
   "execution_count": 23,
   "metadata": {
    "_active": false,
    "_cell_guid": "3c64a85a-816c-3954-d5e2-c3b3b818bbc9",
    "_uuid": "bac0a17224673c21d8cae10a31f888eea8de54a1"
   },
   "outputs": [
    {
     "name": "stderr",
     "output_type": "stream",
     "text": [
      "\n",
      "Predicting with 2 layers\n",
      "\n",
      "Processing layer-1\n",
      "[Parallel(n_jobs=-1)]: Done   2 out of   4 | elapsed:    2.7s remaining:    2.7s\n",
      "[Parallel(n_jobs=-1)]: Done   4 out of   4 | elapsed:    5.3s remaining:    0.0s\n",
      "[Parallel(n_jobs=-1)]: Done   4 out of   4 | elapsed:    5.3s finished\n",
      "layer-1 Done | 00:00:05\n",
      "\n",
      "Processing layer-2\n",
      "[Parallel(n_jobs=-1)]: Done   1 out of   1 | elapsed:    0.0s finished\n",
      "layer-2 Done | 00:00:00\n",
      "\n",
      "Prediction complete | 00:00:05\n",
      "\n"
     ]
    }
   ],
   "source": [
    "pred = ens.predict(xtest)"
   ]
  },
  {
   "cell_type": "code",
   "execution_count": 24,
   "metadata": {},
   "outputs": [
    {
     "name": "stdout",
     "output_type": "stream",
     "text": [
      "Start write result ...\n",
      "Done!\n"
     ]
    }
   ],
   "source": [
    "write_file(pred)"
   ]
  },
  {
   "cell_type": "code",
   "execution_count": null,
   "metadata": {
    "_active": false,
    "_cell_guid": "2513f179-ea59-653e-7b4b-84084e64eaf8",
    "_uuid": "86934d9377803a84d86621f113e0a214a60cd91c",
    "collapsed": true
   },
   "outputs": [],
   "source": [
    "print(\"ensemble score: %.4f\" % mean_absolute_error(ytest, pred))"
   ]
  },
  {
   "cell_type": "markdown",
   "metadata": {
    "_active": true,
    "_cell_guid": "3ee96c61-675a-5428-b4b3-19991a8780be",
    "_uuid": "f555529ce2aeaf2991f25609e6e11d00c25cd622"
   },
   "source": [
    "And that's it for this tutorial!\n",
    "\n",
    "You might have noticed that the ensemble did not achieve an increase in performance. This is partly due to the lack of proper hyper parameter tuning, but more importantly because the base learners are not sufficiently accurate for there to be anything meaningful for the meta learner to learn from (note that predicting the average gets you about 0.07) \n",
    "\n",
    "In these cases, unless the meta learner is underfitting, the ensemble will at least be on par with the best base learner.  Good features are always the primary source of predictive power. Once you have them, combining different estimators in an ensemble is a powerful way of learning as much of the signal in the data as possible.\n",
    "\n",
    "If you decide to give ML-Ensemble a try, note that the library is in beta testing so you may run into some unexpected behavior or see opportunities for improvements. Feel free to contribute to the project via the [github](https://github.com/flennerhag/mlens) repository! "
   ]
  },
  {
   "cell_type": "code",
   "execution_count": null,
   "metadata": {
    "collapsed": true
   },
   "outputs": [],
   "source": []
  }
 ],
 "metadata": {
  "kernelspec": {
   "display_name": "Python 3",
   "language": "python",
   "name": "python3"
  },
  "language_info": {
   "codemirror_mode": {
    "name": "ipython",
    "version": 3
   },
   "file_extension": ".py",
   "mimetype": "text/x-python",
   "name": "python",
   "nbconvert_exporter": "python",
   "pygments_lexer": "ipython3",
   "version": "3.6.1"
  }
 },
 "nbformat": 4,
 "nbformat_minor": 1
}
